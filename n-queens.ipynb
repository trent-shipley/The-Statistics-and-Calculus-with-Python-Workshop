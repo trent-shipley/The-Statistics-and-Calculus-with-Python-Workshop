{
 "cells": [
  {
   "cell_type": "code",
   "execution_count": 1,
   "metadata": {},
   "outputs": [],
   "source": [
    "N = 8"
   ]
  },
  {
   "cell_type": "code",
   "execution_count": 2,
   "metadata": {},
   "outputs": [],
   "source": [
    "#Print out the board in a nice format\n",
    "def display_solution(board):\n",
    "    for i in range(N):\n",
    "        for j in range(N):\n",
    "            print(board[i][j], end =\" \")\n",
    "        print()"
   ]
  },
  {
   "cell_type": "code",
   "execution_count": 3,
   "metadata": {},
   "outputs": [],
   "source": [
    "#Generate a valid solution.\n",
    "def generate_solution():\n",
    "\n",
    "    #Check if a queen can be placed in the position\n",
    "    def check_next(board, row, col):\n",
    "        #Check current column\n",
    "        for i in range(row):\n",
    "            if board[i][col] == 1:\n",
    "                return False\n",
    "\n",
    "        #Check upper left diagonal.\n",
    "        for i, j in zip(range(row, 1, -1), \\\n",
    "            range(col, -1, -1)):\n",
    "            if board[i][j] == 1:\n",
    "                return False\n",
    "\n",
    "        #Check the upper-right diagonal.\n",
    "        for i, j in zip(range(row, -1, -1), \\\n",
    "            range(col, N)):\n",
    "            if board[i][j] == 1:\n",
    "                return False\n",
    "        \n",
    "        return True\n",
    "\n",
    "\n",
    "\n",
    "    def recur_generate_solution(board, row_id):\n",
    "        #Return if we have reached the last row.\n",
    "        if row_id >= N:\n",
    "            return True\n",
    "\n",
    "        #Iteratively try out cells in the current row.\n",
    "        for i in range(N):\n",
    "            if check_next(board, row_id, i):\n",
    "                board[row_id][i] = 1\n",
    "                final_board = recur_generate_solution(\\\n",
    "                    board, row_id + 1)\n",
    "\n",
    "                if final_board:\n",
    "                    return True\n",
    "                \n",
    "                board[row_id][i] = 0\n",
    "                \n",
    "        return False\n",
    "    \n",
    "    #Start out with an empty board.\n",
    "    my_board = [[0 for _ in range(N)] for _ in range (N)]\n",
    "\n",
    "    final_solution = recur_generate_solution(my_board, 0)\n",
    "\n",
    "    #Display the final solution\n",
    "    if final_solution is False:\n",
    "        print(\"A solution cannot be found.\")\n",
    "    else:\n",
    "        print(\"A solution was found.\")\n",
    "        display_solution(my_board)\n",
    "\n",
    "        \n"
   ]
  },
  {
   "cell_type": "code",
   "execution_count": 4,
   "metadata": {},
   "outputs": [
    {
     "name": "stdout",
     "output_type": "stream",
     "text": [
      "A solution was found.\n",
      "1 0 0 0 0 0 0 0 \n",
      "0 1 0 0 0 0 0 0 \n",
      "0 0 0 1 0 0 0 0 \n",
      "0 0 0 0 0 1 0 0 \n",
      "0 0 0 0 0 0 0 1 \n",
      "0 0 1 0 0 0 0 0 \n",
      "0 0 0 0 1 0 0 0 \n",
      "0 0 0 0 0 0 1 0 \n"
     ]
    }
   ],
   "source": [
    "generate_solution()"
   ]
  }
 ],
 "metadata": {
  "kernelspec": {
   "display_name": "Python 3.10.4 64-bit",
   "language": "python",
   "name": "python3"
  },
  "language_info": {
   "codemirror_mode": {
    "name": "ipython",
    "version": 3
   },
   "file_extension": ".py",
   "mimetype": "text/x-python",
   "name": "python",
   "nbconvert_exporter": "python",
   "pygments_lexer": "ipython3",
   "version": "3.10.4"
  },
  "orig_nbformat": 4,
  "vscode": {
   "interpreter": {
    "hash": "369f2c481f4da34e4445cda3fffd2e751bd1c4d706f27375911949ba6bb62e1c"
   }
  }
 },
 "nbformat": 4,
 "nbformat_minor": 2
}
