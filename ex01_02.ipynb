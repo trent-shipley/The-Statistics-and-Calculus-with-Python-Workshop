{
 "cells": [
  {
   "cell_type": "code",
   "execution_count": 1,
   "metadata": {},
   "outputs": [
    {
     "name": "stdout",
     "output_type": "stream",
     "text": [
      "Enter your guess: 50\n",
      "|50|\n",
      "Higher\n",
      "Enter your guess: 75\n",
      "|75|\n",
      "Lower\n",
      "Enter your guess: 63\n",
      "|63|\n",
      "Lower\n",
      "Enter your guess: 56\n",
      "|56|\n",
      "Higher\n",
      "Enter your guess: 59\n",
      "|59|\n",
      "Congratulations! You guessed correctly.\n"
     ]
    }
   ],
   "source": [
    "import random\n",
    "\n",
    "true_value = random.randint(0, 100)\n",
    "\n",
    "while True:\n",
    "    guess = input('Enter your guess: ')\n",
    "\n",
    "    try:\n",
    "        print(\"|\" + guess + \"|\")\n",
    "        guess = int(guess)\n",
    "\n",
    "        if guess == true_value:\n",
    "            print(\"Congratulations! You guessed correctly.\")\n",
    "            break\n",
    "\n",
    "        elif guess > true_value:\n",
    "            print(\"Lower\") # user guessed too high\n",
    "\n",
    "        else:\n",
    "            print(\"Higher\") # user guessed too low\n",
    "\n",
    "    # when the input is invalid\n",
    "\n",
    "    except ValueError:\n",
    "        print(\"Please enter a valid number.\")"
   ]
  },
  {
   "cell_type": "code",
   "execution_count": null,
   "metadata": {},
   "outputs": [],
   "source": []
  }
 ],
 "metadata": {
  "kernelspec": {
   "display_name": "Python 3 (ipykernel)",
   "language": "python",
   "name": "python3"
  },
  "language_info": {
   "codemirror_mode": {
    "name": "ipython",
    "version": 3
   },
   "file_extension": ".py",
   "mimetype": "text/x-python",
   "name": "python",
   "nbconvert_exporter": "python",
   "pygments_lexer": "ipython3",
   "version": "3.9.12"
  },
  "vscode": {
   "interpreter": {
    "hash": "369f2c481f4da34e4445cda3fffd2e751bd1c4d706f27375911949ba6bb62e1c"
   }
  }
 },
 "nbformat": 4,
 "nbformat_minor": 2
}
