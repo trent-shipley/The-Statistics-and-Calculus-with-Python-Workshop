{
 "cells": [
  {
   "cell_type": "code",
   "execution_count": null,
   "metadata": {},
   "outputs": [],
   "source": [
    "prices = {\"MacBook 13\": 1300, \"MacBook 15\": 2100, \"ASUS ROG\": 1600}"
   ]
  },
  {
   "cell_type": "code",
   "execution_count": null,
   "metadata": {},
   "outputs": [],
   "source": [
    "cart = {}"
   ]
  },
  {
   "cell_type": "code",
   "execution_count": null,
   "metadata": {},
   "outputs": [],
   "source": [
    "while True:\n",
    "    _continue = input(\"Would you like to continue \"\\\n",
    "        \"shopping? [y/n]: \")\n",
    "    \n",
    "    if _continue == 'y':\n",
    "        print(f\"Available products and prices: {prices}\")\n",
    "        new_item = input(\"Which product would you like to \"\\\n",
    "            \"add to your cart? \")\n",
    "        if new_item in prices:\n",
    "            if new_item in cart:\n",
    "                cart[new_item] += 1\n",
    "            else:\n",
    "                cart[new_item] = 1\n",
    "\n",
    "    elif _continue == 'n':\n",
    "        break\n",
    "\n",
    "    else:\n",
    "        print('Please only enter \"y\" or \"n\".')\n"
   ]
  },
  {
   "cell_type": "code",
   "execution_count": null,
   "metadata": {},
   "outputs": [],
   "source": [
    "# Calculation of total bill.\n",
    "\n",
    "running_sum = 0\n",
    "for item in cart:\n",
    "    running_sum += cart[item] * prices[item] # quantity times price"
   ]
  },
  {
   "cell_type": "code",
   "execution_count": null,
   "metadata": {},
   "outputs": [],
   "source": [
    "print(\"Your final cart is: \")\n",
    "\n",
    "for item in cart:\n",
    "    print(f\"-{cart[item]} {item}(s)\")\n",
    "\n",
    "print(f\"Your final bill is: {running_sum}\")"
   ]
  }
 ],
 "metadata": {
  "kernelspec": {
   "display_name": "Python 3 (ipykernel)",
   "language": "python",
   "name": "python3"
  },
  "language_info": {
   "codemirror_mode": {
    "name": "ipython",
    "version": 3
   },
   "file_extension": ".py",
   "mimetype": "text/x-python",
   "name": "python",
   "nbconvert_exporter": "python",
   "pygments_lexer": "ipython3",
   "version": "3.9.12"
  },
  "vscode": {
   "interpreter": {
    "hash": "ad2bdc8ecc057115af97d19610ffacc2b4e99fae6737bb82f5d7fb13d2f2c186"
   }
  }
 },
 "nbformat": 4,
 "nbformat_minor": 2
}
