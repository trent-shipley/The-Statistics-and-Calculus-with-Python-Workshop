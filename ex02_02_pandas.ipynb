{
 "cells": [
  {
   "cell_type": "code",
   "execution_count": 12,
   "metadata": {},
   "outputs": [
    {
     "name": "stdout",
     "output_type": "stream",
     "text": [
      "    x    y     z\n",
      "id              \n",
      "0   1  1.0   3.0\n",
      "1   1  0.0   9.0\n",
      "2   1  3.0   NaN\n",
      "3   2  0.0  10.0\n",
      "4   1  NaN   4.0\n",
      "5   2  2.0   3.0\n"
     ]
    }
   ],
   "source": [
    "import pandas as pd\n",
    "import numpy as np\n",
    "\n",
    "df = pd.read_csv(\"dataset_2_02.csv\", index_col=\"id\")\n",
    "print(df)"
   ]
  },
  {
   "cell_type": "code",
   "execution_count": 13,
   "metadata": {},
   "outputs": [
    {
     "name": "stdout",
     "output_type": "stream",
     "text": [
      "    col_x  col_y  col_z\n",
      "id                     \n",
      "0       1    1.0    3.0\n",
      "1       1    0.0    9.0\n",
      "2       1    3.0    NaN\n",
      "3       2    0.0   10.0\n",
      "4       1    NaN    4.0\n",
      "5       2    2.0    3.0\n"
     ]
    }
   ],
   "source": [
    "df = df.rename(columns={'x':'col_x', 'y':'col_y', \n",
    "                        'z':'col_z'})\n",
    "print(df)"
   ]
  },
  {
   "cell_type": "code",
   "execution_count": 14,
   "metadata": {},
   "outputs": [
    {
     "name": "stdout",
     "output_type": "stream",
     "text": [
      "    col_x  col_y  col_z\n",
      "id                     \n",
      "0       1      1      3\n",
      "1       1      0      9\n",
      "2       1      3      0\n",
      "3       2      0     10\n",
      "4       1      0      4\n",
      "5       2      2      3\n"
     ]
    }
   ],
   "source": [
    "df = df.fillna(0)\n",
    "df = df.astype(int)\n",
    "print(df)"
   ]
  },
  {
   "cell_type": "code",
   "execution_count": 15,
   "metadata": {},
   "outputs": [
    {
     "name": "stdout",
     "output_type": "stream",
     "text": [
      "    col_x  col_y  col_z\n",
      "id                     \n",
      "0       1      1      3\n",
      "2       1      3      0\n",
      "5       2      2      3\n"
     ]
    }
   ],
   "source": [
    "df = df.drop([1, 3, 4], axis=0)\n",
    "print(df)"
   ]
  },
  {
   "cell_type": "code",
   "execution_count": 16,
   "metadata": {},
   "outputs": [
    {
     "name": "stdout",
     "output_type": "stream",
     "text": [
      "   col_x  col_y  col_z\n",
      "0    0.0    0.0    0.0\n",
      "1    0.0    0.0    0.0\n"
     ]
    }
   ],
   "source": [
    "zero_df = pd.DataFrame(np.zeros((2,3)), \n",
    "                        columns={'col_x', 'col_y', 'col_z'})\n",
    "\n",
    "print(zero_df)\n"
   ]
  },
  {
   "cell_type": "code",
   "execution_count": 17,
   "metadata": {},
   "outputs": [
    {
     "name": "stdout",
     "output_type": "stream",
     "text": [
      "   col_x  col_y  col_z\n",
      "0    1.0    1.0    3.0\n",
      "2    1.0    3.0    0.0\n",
      "5    2.0    2.0    3.0\n",
      "0    0.0    0.0    0.0\n",
      "1    0.0    0.0    0.0\n"
     ]
    }
   ],
   "source": [
    "df = pd.concat([df, zero_df], axis=0)\n",
    "print(df)"
   ]
  },
  {
   "cell_type": "code",
   "execution_count": 18,
   "metadata": {},
   "outputs": [
    {
     "name": "stdout",
     "output_type": "stream",
     "text": [
      "   col_x  col_y  col_z\n",
      "0    0.0    0.0    0.0\n",
      "1    0.0    0.0    0.0\n",
      "0    1.0    1.0    3.0\n",
      "2    1.0    3.0    0.0\n",
      "5    2.0    2.0    3.0\n"
     ]
    }
   ],
   "source": [
    "df = df.sort_values('col_x', axis=0)\n",
    "print(df)"
   ]
  },
  {
   "cell_type": "code",
   "execution_count": null,
   "metadata": {},
   "outputs": [],
   "source": [
    "df = df.astype(int)\n",
    "df.to_csv('output_2_02.csv', index=False)"
   ]
  }
 ],
 "metadata": {
  "kernelspec": {
   "display_name": "Python 3.9.12 ('base')",
   "language": "python",
   "name": "python3"
  },
  "language_info": {
   "codemirror_mode": {
    "name": "ipython",
    "version": 3
   },
   "file_extension": ".py",
   "mimetype": "text/x-python",
   "name": "python",
   "nbconvert_exporter": "python",
   "pygments_lexer": "ipython3",
   "version": "3.9.13"
  },
  "orig_nbformat": 4,
  "vscode": {
   "interpreter": {
    "hash": "ad2bdc8ecc057115af97d19610ffacc2b4e99fae6737bb82f5d7fb13d2f2c186"
   }
  }
 },
 "nbformat": 4,
 "nbformat_minor": 2
}
