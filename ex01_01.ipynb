{
 "cells": [
  {
   "cell_type": "code",
   "execution_count": 3,
   "id": "249974ff",
   "metadata": {},
   "outputs": [],
   "source": [
    "x = 104832\n",
    "\n",
    "with open('output.txt', 'w') as f:\n",
    "    if x % 5 == 0:\n",
    "        f.write('x is divisible by 5')\n",
    "    elif x % 6 == 0:\n",
    "        f.write('x is divisible by 6')\n",
    "    elif x % 7 == 0:\n",
    "        f.write('x is divisible by 7')\n",
    "    else:\n",
    "        f.write('x is not divisible by 5, 6, or 7')\n"
   ]
  },
  {
   "cell_type": "code",
   "execution_count": null,
   "id": "12bbf762",
   "metadata": {},
   "outputs": [],
   "source": []
  }
 ],
 "metadata": {
  "kernelspec": {
   "display_name": "Python 3.10.4 64-bit",
   "language": "python",
   "name": "python3"
  },
  "language_info": {
   "codemirror_mode": {
    "name": "ipython",
    "version": 3
   },
   "file_extension": ".py",
   "mimetype": "text/x-python",
   "name": "python",
   "nbconvert_exporter": "python",
   "pygments_lexer": "ipython3",
   "version": "3.10.4"
  },
  "vscode": {
   "interpreter": {
    "hash": "369f2c481f4da34e4445cda3fffd2e751bd1c4d706f27375911949ba6bb62e1c"
   }
  }
 },
 "nbformat": 4,
 "nbformat_minor": 5
}
